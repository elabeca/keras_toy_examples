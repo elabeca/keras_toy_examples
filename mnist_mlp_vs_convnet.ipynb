{
 "cells": [
  {
   "cell_type": "markdown",
   "metadata": {},
   "source": [
    "### Getting MNIST data"
   ]
  },
  {
   "cell_type": "code",
   "execution_count": 22,
   "metadata": {},
   "outputs": [],
   "source": [
    "from keras.datasets import mnist\n",
    "\n",
    "(all_train_images, all_train_labels), (test_images, test_labels) = mnist.load_data()"
   ]
  },
  {
   "cell_type": "code",
   "execution_count": 23,
   "metadata": {},
   "outputs": [
    {
     "data": {
      "text/plain": [
       "(60000, 28, 28)"
      ]
     },
     "execution_count": 23,
     "metadata": {},
     "output_type": "execute_result"
    }
   ],
   "source": [
    "all_train_images.shape"
   ]
  },
  {
   "cell_type": "code",
   "execution_count": 24,
   "metadata": {},
   "outputs": [
    {
     "data": {
      "text/plain": [
       "(60000,)"
      ]
     },
     "execution_count": 24,
     "metadata": {},
     "output_type": "execute_result"
    }
   ],
   "source": [
    "all_train_labels.shape"
   ]
  },
  {
   "cell_type": "code",
   "execution_count": 25,
   "metadata": {},
   "outputs": [
    {
     "data": {
      "text/plain": [
       "array([5, 0, 4, ..., 5, 6, 8], dtype=uint8)"
      ]
     },
     "execution_count": 25,
     "metadata": {},
     "output_type": "execute_result"
    }
   ],
   "source": [
    "all_train_labels"
   ]
  },
  {
   "cell_type": "code",
   "execution_count": 26,
   "metadata": {},
   "outputs": [
    {
     "data": {
      "text/plain": [
       "(10000, 28, 28)"
      ]
     },
     "execution_count": 26,
     "metadata": {},
     "output_type": "execute_result"
    }
   ],
   "source": [
    "test_images.shape"
   ]
  },
  {
   "cell_type": "code",
   "execution_count": 27,
   "metadata": {},
   "outputs": [
    {
     "data": {
      "text/plain": [
       "(10000,)"
      ]
     },
     "execution_count": 27,
     "metadata": {},
     "output_type": "execute_result"
    }
   ],
   "source": [
    "test_labels.shape"
   ]
  },
  {
   "cell_type": "code",
   "execution_count": 28,
   "metadata": {},
   "outputs": [
    {
     "data": {
      "text/plain": [
       "array([7, 2, 1, ..., 4, 5, 6], dtype=uint8)"
      ]
     },
     "execution_count": 28,
     "metadata": {},
     "output_type": "execute_result"
    }
   ],
   "source": [
    "test_labels"
   ]
  },
  {
   "cell_type": "markdown",
   "metadata": {},
   "source": [
    "### Normalizing"
   ]
  },
  {
   "cell_type": "code",
   "execution_count": 29,
   "metadata": {
    "collapsed": true
   },
   "outputs": [],
   "source": [
    "all_train_images = all_train_images.astype('float32') / 255\n",
    "test_images = test_images.astype('float32') / 255"
   ]
  },
  {
   "cell_type": "markdown",
   "metadata": {},
   "source": [
    "### Splitting train dataset into a train and validation sets"
   ]
  },
  {
   "cell_type": "code",
   "execution_count": 30,
   "metadata": {},
   "outputs": [
    {
     "data": {
      "text/plain": [
       "(50000, 28, 28)"
      ]
     },
     "execution_count": 30,
     "metadata": {},
     "output_type": "execute_result"
    }
   ],
   "source": [
    "train_images = all_train_images[:50000, :, :]\n",
    "train_images.shape"
   ]
  },
  {
   "cell_type": "code",
   "execution_count": 31,
   "metadata": {},
   "outputs": [
    {
     "data": {
      "text/plain": [
       "(10000, 28, 28)"
      ]
     },
     "execution_count": 31,
     "metadata": {},
     "output_type": "execute_result"
    }
   ],
   "source": [
    "validation_images = all_train_images[50000:, :, :]\n",
    "validation_images.shape"
   ]
  },
  {
   "cell_type": "code",
   "execution_count": 32,
   "metadata": {},
   "outputs": [
    {
     "data": {
      "text/plain": [
       "(10000, 28, 28)"
      ]
     },
     "execution_count": 32,
     "metadata": {},
     "output_type": "execute_result"
    }
   ],
   "source": [
    "test_images.shape"
   ]
  },
  {
   "cell_type": "code",
   "execution_count": 33,
   "metadata": {},
   "outputs": [
    {
     "data": {
      "text/plain": [
       "(50000,)"
      ]
     },
     "execution_count": 33,
     "metadata": {},
     "output_type": "execute_result"
    }
   ],
   "source": [
    "train_labels = all_train_labels[:50000]\n",
    "train_labels.shape"
   ]
  },
  {
   "cell_type": "code",
   "execution_count": 34,
   "metadata": {},
   "outputs": [
    {
     "data": {
      "text/plain": [
       "(10000,)"
      ]
     },
     "execution_count": 34,
     "metadata": {},
     "output_type": "execute_result"
    }
   ],
   "source": [
    "validation_labels = all_train_labels[50000:]\n",
    "validation_labels.shape"
   ]
  },
  {
   "cell_type": "code",
   "execution_count": 35,
   "metadata": {},
   "outputs": [
    {
     "data": {
      "text/plain": [
       "(10000,)"
      ]
     },
     "execution_count": 35,
     "metadata": {},
     "output_type": "execute_result"
    }
   ],
   "source": [
    "test_labels.shape"
   ]
  },
  {
   "cell_type": "markdown",
   "metadata": {},
   "source": [
    "### Reshaping for Dense input "
   ]
  },
  {
   "cell_type": "code",
   "execution_count": 36,
   "metadata": {},
   "outputs": [
    {
     "name": "stdout",
     "output_type": "stream",
     "text": [
      "(50000, 784)\n",
      "(10000, 784)\n",
      "(10000, 784)\n"
     ]
    }
   ],
   "source": [
    "train_images_mlp = train_images.reshape((50000, 28 * 28))\n",
    "validation_images_mlp = validation_images.reshape((10000, 28 * 28))\n",
    "test_images_mlp = test_images.reshape((10000, 28 * 28))\n",
    "\n",
    "print(train_images_mlp.shape)\n",
    "print(validation_images_mlp.shape)\n",
    "print(test_images_mlp.shape)"
   ]
  },
  {
   "cell_type": "markdown",
   "metadata": {},
   "source": [
    "### One-hot encoding of labels"
   ]
  },
  {
   "cell_type": "code",
   "execution_count": 37,
   "metadata": {},
   "outputs": [
    {
     "name": "stdout",
     "output_type": "stream",
     "text": [
      "train_labels_one_hot.shape: (50000, 10)\n",
      "validation_labels_one_hot.shape: (10000, 10)\n",
      "test_lanels_one_hot: (10000, 10)\n"
     ]
    }
   ],
   "source": [
    "from keras.utils import to_categorical\n",
    "\n",
    "train_labels_one_hot = to_categorical(train_labels)\n",
    "validation_labels_one_hot = to_categorical(validation_labels)\n",
    "test_labels_one_hot = to_categorical(test_labels)\n",
    "\n",
    "print(\"train_labels_one_hot.shape:\", train_labels_one_hot.shape)\n",
    "print(\"validation_labels_one_hot.shape:\", validation_labels_one_hot.shape)\n",
    "print(\"test_lanels_one_hot:\", test_labels_one_hot.shape)"
   ]
  },
  {
   "cell_type": "markdown",
   "metadata": {},
   "source": [
    "## MLP model"
   ]
  },
  {
   "cell_type": "code",
   "execution_count": 38,
   "metadata": {},
   "outputs": [
    {
     "name": "stdout",
     "output_type": "stream",
     "text": [
      "Train on 50000 samples, validate on 10000 samples\n",
      "Epoch 1/5\n",
      "50000/50000 [==============================] - 0s - loss: 0.2831 - acc: 0.9178 - val_loss: 0.1571 - val_acc: 0.9536\n",
      "Epoch 2/5\n",
      "50000/50000 [==============================] - 0s - loss: 0.1148 - acc: 0.9657 - val_loss: 0.1035 - val_acc: 0.9701\n",
      "Epoch 3/5\n",
      "50000/50000 [==============================] - 0s - loss: 0.0752 - acc: 0.9779 - val_loss: 0.0849 - val_acc: 0.9748\n",
      "Epoch 4/5\n",
      "50000/50000 [==============================] - 0s - loss: 0.0545 - acc: 0.9835 - val_loss: 0.0783 - val_acc: 0.9770\n",
      "Epoch 5/5\n",
      "50000/50000 [==============================] - 0s - loss: 0.0392 - acc: 0.9884 - val_loss: 0.0893 - val_acc: 0.9743\n",
      "dict_keys(['val_loss', 'val_acc', 'loss', 'acc'])\n"
     ]
    },
    {
     "data": {
      "image/png": "[encoded data removed]",
      "text/plain": [
       "<matplotlib.figure.Figure at 0x7f125080b860>"
      ]
     },
     "metadata": {},
     "output_type": "display_data"
    }
   ],
   "source": [
    "from keras.models import Model\n",
    "from keras.layers import Input, Dense\n",
    "\n",
    "inputs = Input(shape=(28 * 28,))\n",
    "hidden1 = Dense(512, activation='relu')(inputs)\n",
    "outputs = Dense(10, activation='softmax')(hidden1)\n",
    "\n",
    "model = Model(inputs=inputs, outputs=outputs)\n",
    "model.compile(optimizer='rmsprop',\n",
    "              loss='categorical_crossentropy',\n",
    "              metrics=['accuracy'])\n",
    "\n",
    "history_mlp = model.fit(train_images_mlp,\n",
    "                        train_labels_one_hot,\n",
    "                        epochs=5,\n",
    "                        batch_size=128,\n",
    "                        validation_data=(validation_images_mlp, validation_labels_one_hot))\n",
    "\n",
    "history_dict = history_mlp.history\n",
    "print(history_dict.keys())\n",
    "\n",
    "%matplotlib inline\n",
    "import matplotlib.pyplot as plt\n",
    "\n",
    "loss_mlp = history_dict['loss']\n",
    "val_loss_mlp = history_dict['val_loss']\n",
    "epochs = range(1, len(loss_mlp) + 1)\n",
    "\n",
    "plt.plot(epochs, loss_mlp, 'bo')\n",
    "plt.plot(epochs, val_loss_mlp, 'b+')\n",
    "plt.xlabel('Epochs')\n",
    "plt.ylabel('Loss')\n",
    "plt.show()"
   ]
  },
  {
   "cell_type": "code",
   "execution_count": 39,
   "metadata": {},
   "outputs": [
    {
     "name": "stdout",
     "output_type": "stream",
     "text": [
      " 9184/10000 [==========================>...] - ETA: 0stest_loss_mlp: 0.087796932106\n",
      "test_acc_mlp: 0.9737\n"
     ]
    }
   ],
   "source": [
    "test_loss_mlp, test_acc_mlp = model.evaluate(test_images_mlp, test_labels_one_hot)\n",
    "print(\"test_loss_mlp:\", test_loss_mlp)\n",
    "print(\"test_acc_mlp:\", test_acc_mlp)"
   ]
  },
  {
   "cell_type": "markdown",
   "metadata": {},
   "source": [
    "### Reshape for Convolution input with one channel"
   ]
  },
  {
   "cell_type": "code",
   "execution_count": 40,
   "metadata": {},
   "outputs": [
    {
     "name": "stdout",
     "output_type": "stream",
     "text": [
      "(50000, 28, 28, 1)\n",
      "(10000, 28, 28, 1)\n",
      "(10000, 28, 28, 1)\n"
     ]
    }
   ],
   "source": [
    "train_images_chan = train_images.reshape((50000, 28, 28, 1))\n",
    "validation_images_chan = validation_images.reshape((10000, 28, 28, 1))\n",
    "test_images_chan = test_images.reshape((10000, 28, 28, 1))\n",
    "\n",
    "print(train_images_chan.shape)\n",
    "print(validation_images_chan.shape)\n",
    "print(test_images_chan.shape)"
   ]
  },
  {
   "cell_type": "markdown",
   "metadata": {},
   "source": [
    "## ConvNet model"
   ]
  },
  {
   "cell_type": "code",
   "execution_count": 41,
   "metadata": {},
   "outputs": [
    {
     "name": "stdout",
     "output_type": "stream",
     "text": [
      "Train on 50000 samples, validate on 10000 samples\n",
      "Epoch 1/5\n",
      "50000/50000 [==============================] - 2s - loss: 0.2235 - acc: 0.9279 - val_loss: 0.0520 - val_acc: 0.9860\n",
      "Epoch 2/5\n",
      "50000/50000 [==============================] - 1s - loss: 0.0520 - acc: 0.9840 - val_loss: 0.0453 - val_acc: 0.9866\n",
      "Epoch 3/5\n",
      "50000/50000 [==============================] - 1s - loss: 0.0340 - acc: 0.9886 - val_loss: 0.0689 - val_acc: 0.9774\n",
      "Epoch 4/5\n",
      "50000/50000 [==============================] - 1s - loss: 0.0258 - acc: 0.9917 - val_loss: 0.0370 - val_acc: 0.9906\n",
      "Epoch 5/5\n",
      "50000/50000 [==============================] - 1s - loss: 0.0183 - acc: 0.9942 - val_loss: 0.0345 - val_acc: 0.9908\n"
     ]
    },
    {
     "data": {
      "image/png": "[encoded data removed]",
      "text/plain": [
       "<matplotlib.figure.Figure at 0x7f122c51bef0>"
      ]
     },
     "metadata": {},
     "output_type": "display_data"
    }
   ],
   "source": [
    "from keras.layers import Conv2D, MaxPooling2D, Flatten, Dense\n",
    "from keras.models import Model\n",
    "\n",
    "inputs = Input(shape=(28, 28, 1))\n",
    "conv1 = Conv2D(32, (3, 3), activation='relu')(inputs)\n",
    "pool1 = MaxPooling2D((2, 2))(conv1)\n",
    "conv2 = Conv2D(64, (3, 3), activation='relu')(pool1)\n",
    "pool2 = MaxPooling2D((2, 2))(conv2)\n",
    "conv3 = Conv2D(64, (3, 3), activation='relu')(pool2)\n",
    "flatten = Flatten()(conv3)\n",
    "dense1 = Dense(512, activation='relu')(flatten)\n",
    "outputs = Dense(10, activation='softmax')(dense1)\n",
    "\n",
    "model = Model(inputs=inputs, outputs=outputs)\n",
    "model.compile(optimizer='rmsprop',\n",
    "              loss='categorical_crossentropy',\n",
    "              metrics=['accuracy'])\n",
    "\n",
    "history_conv = model.fit(train_images_chan,\n",
    "                         train_labels_one_hot,\n",
    "                         epochs=5,\n",
    "                         batch_size=128,\n",
    "                         validation_data=(validation_images_chan, validation_labels_one_hot))\n",
    "\n",
    "history_dict = history_conv.history\n",
    "\n",
    "loss_conv = history_dict['loss']\n",
    "val_loss_conv = history_dict['val_loss']\n",
    "epochs = range(1, len(loss_conv) + 1)\n",
    "plt.plot(epochs, loss_conv, 'bo')\n",
    "plt.plot(epochs, val_loss_conv, 'b+')\n",
    "plt.xlabel('Epochs')\n",
    "plt.ylabel('Loss')\n",
    "plt.show()"
   ]
  },
  {
   "cell_type": "code",
   "execution_count": 42,
   "metadata": {},
   "outputs": [
    {
     "name": "stdout",
     "output_type": "stream",
     "text": [
      " 9664/10000 [===========================>..] - ETA: 0stest_loss_conv: 0.0281388300168\n",
      "test_acc_conv: 0.9911\n"
     ]
    }
   ],
   "source": [
    "test_loss_conv, test_acc_conv = model.evaluate(test_images_chan, test_labels_one_hot)\n",
    "print(\"test_loss_conv:\", test_loss_conv)\n",
    "print(\"test_acc_conv:\", test_acc_conv)"
   ]
  },
  {
   "cell_type": "code",
   "execution_count": 43,
   "metadata": {},
   "outputs": [
    {
     "name": "stdout",
     "output_type": "stream",
     "text": [
      "test_acc_mlp vs test_acc_conv: 0.9737 vs 0.9911\n"
     ]
    }
   ],
   "source": [
    "\n",
    "print(\"test_acc_mlp vs test_acc_conv:\", test_acc_mlp, \"vs\", test_acc_conv)"
   ]
  }
 ],
 "metadata": {
  "kernelspec": {
   "display_name": "Python 3",
   "language": "python",
   "name": "python3"
  },
  "language_info": {
   "codemirror_mode": {
    "name": "ipython",
    "version": 3
   },
   "file_extension": ".py",
   "mimetype": "text/x-python",
   "name": "python",
   "nbconvert_exporter": "python",
   "pygments_lexer": "ipython3",
   "version": "3.6.1"
  }
 },
 "nbformat": 4,
 "nbformat_minor": 2
}
