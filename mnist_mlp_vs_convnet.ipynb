{
 "cells": [
  {
   "cell_type": "markdown",
   "metadata": {},
   "source": [
    "### Getting MNIST data"
   ]
  },
  {
   "cell_type": "code",
   "execution_count": 1,
   "metadata": {},
   "outputs": [
    {
     "name": "stderr",
     "output_type": "stream",
     "text": [
      "Using TensorFlow backend.\n"
     ]
    }
   ],
   "source": [
    "from keras.datasets import mnist\n",
    "\n",
    "(all_train_images, all_train_labels), (test_images, test_labels) = mnist.load_data()"
   ]
  },
  {
   "cell_type": "code",
   "execution_count": 2,
   "metadata": {},
   "outputs": [
    {
     "data": {
      "text/plain": [
       "(60000, 28, 28)"
      ]
     },
     "execution_count": 2,
     "metadata": {},
     "output_type": "execute_result"
    }
   ],
   "source": [
    "all_train_images.shape"
   ]
  },
  {
   "cell_type": "code",
   "execution_count": 3,
   "metadata": {},
   "outputs": [
    {
     "data": {
      "text/plain": [
       "(60000,)"
      ]
     },
     "execution_count": 3,
     "metadata": {},
     "output_type": "execute_result"
    }
   ],
   "source": [
    "all_train_labels.shape"
   ]
  },
  {
   "cell_type": "code",
   "execution_count": 4,
   "metadata": {},
   "outputs": [
    {
     "data": {
      "text/plain": [
       "array([5, 0, 4, ..., 5, 6, 8], dtype=uint8)"
      ]
     },
     "execution_count": 4,
     "metadata": {},
     "output_type": "execute_result"
    }
   ],
   "source": [
    "all_train_labels"
   ]
  },
  {
   "cell_type": "code",
   "execution_count": 5,
   "metadata": {},
   "outputs": [
    {
     "data": {
      "text/plain": [
       "(10000, 28, 28)"
      ]
     },
     "execution_count": 5,
     "metadata": {},
     "output_type": "execute_result"
    }
   ],
   "source": [
    "test_images.shape"
   ]
  },
  {
   "cell_type": "code",
   "execution_count": 6,
   "metadata": {},
   "outputs": [
    {
     "data": {
      "text/plain": [
       "(10000,)"
      ]
     },
     "execution_count": 6,
     "metadata": {},
     "output_type": "execute_result"
    }
   ],
   "source": [
    "test_labels.shape"
   ]
  },
  {
   "cell_type": "code",
   "execution_count": 7,
   "metadata": {},
   "outputs": [
    {
     "data": {
      "text/plain": [
       "array([7, 2, 1, ..., 4, 5, 6], dtype=uint8)"
      ]
     },
     "execution_count": 7,
     "metadata": {},
     "output_type": "execute_result"
    }
   ],
   "source": [
    "test_labels"
   ]
  },
  {
   "cell_type": "markdown",
   "metadata": {},
   "source": [
    "### Normalizing"
   ]
  },
  {
   "cell_type": "code",
   "execution_count": 8,
   "metadata": {
    "collapsed": true
   },
   "outputs": [],
   "source": [
    "all_train_images = all_train_images.astype('float32') / 255\n",
    "test_images = test_images.astype('float32') / 255"
   ]
  },
  {
   "cell_type": "markdown",
   "metadata": {},
   "source": [
    "### Splitting train dataset into a train and validation sets"
   ]
  },
  {
   "cell_type": "code",
   "execution_count": 9,
   "metadata": {},
   "outputs": [
    {
     "data": {
      "text/plain": [
       "(50000, 28, 28)"
      ]
     },
     "execution_count": 9,
     "metadata": {},
     "output_type": "execute_result"
    }
   ],
   "source": [
    "train_images = all_train_images[:50000, :, :]\n",
    "train_images.shape"
   ]
  },
  {
   "cell_type": "code",
   "execution_count": 10,
   "metadata": {},
   "outputs": [
    {
     "data": {
      "text/plain": [
       "(10000, 28, 28)"
      ]
     },
     "execution_count": 10,
     "metadata": {},
     "output_type": "execute_result"
    }
   ],
   "source": [
    "validation_images = all_train_images[50000:, :, :]\n",
    "validation_images.shape"
   ]
  },
  {
   "cell_type": "code",
   "execution_count": 11,
   "metadata": {},
   "outputs": [
    {
     "data": {
      "text/plain": [
       "(10000, 28, 28)"
      ]
     },
     "execution_count": 11,
     "metadata": {},
     "output_type": "execute_result"
    }
   ],
   "source": [
    "test_images.shape"
   ]
  },
  {
   "cell_type": "code",
   "execution_count": 12,
   "metadata": {},
   "outputs": [
    {
     "data": {
      "text/plain": [
       "(50000,)"
      ]
     },
     "execution_count": 12,
     "metadata": {},
     "output_type": "execute_result"
    }
   ],
   "source": [
    "train_labels = all_train_labels[:50000]\n",
    "train_labels.shape"
   ]
  },
  {
   "cell_type": "code",
   "execution_count": 13,
   "metadata": {},
   "outputs": [
    {
     "data": {
      "text/plain": [
       "(10000,)"
      ]
     },
     "execution_count": 13,
     "metadata": {},
     "output_type": "execute_result"
    }
   ],
   "source": [
    "validation_labels = all_train_labels[50000:]\n",
    "validation_labels.shape"
   ]
  },
  {
   "cell_type": "code",
   "execution_count": 14,
   "metadata": {},
   "outputs": [
    {
     "data": {
      "text/plain": [
       "(10000,)"
      ]
     },
     "execution_count": 14,
     "metadata": {},
     "output_type": "execute_result"
    }
   ],
   "source": [
    "test_labels.shape"
   ]
  },
  {
   "cell_type": "markdown",
   "metadata": {},
   "source": [
    "### Reshaping for Dense input "
   ]
  },
  {
   "cell_type": "code",
   "execution_count": 15,
   "metadata": {},
   "outputs": [
    {
     "name": "stdout",
     "output_type": "stream",
     "text": [
      "(50000, 784)\n",
      "(10000, 784)\n",
      "(10000, 784)\n"
     ]
    }
   ],
   "source": [
    "train_images_mlp = train_images.reshape((50000, 28 * 28))\n",
    "validation_images_mlp = validation_images.reshape((10000, 28 * 28))\n",
    "test_images_mlp = test_images.reshape((10000, 28 * 28))\n",
    "\n",
    "print(train_images_mlp.shape)\n",
    "print(validation_images_mlp.shape)\n",
    "print(test_images_mlp.shape)"
   ]
  },
  {
   "cell_type": "markdown",
   "metadata": {},
   "source": [
    "### One-hot encoding of labels"
   ]
  },
  {
   "cell_type": "code",
   "execution_count": 16,
   "metadata": {},
   "outputs": [
    {
     "name": "stdout",
     "output_type": "stream",
     "text": [
      "('train_labels_one_hot.shape:', (50000, 10))\n",
      "('validation_labels_one_hot.shape:', (10000, 10))\n",
      "('test_lanels_one_hot:', (10000, 10))\n"
     ]
    }
   ],
   "source": [
    "from keras.utils import to_categorical\n",
    "\n",
    "train_labels_one_hot = to_categorical(train_labels)\n",
    "validation_labels_one_hot = to_categorical(validation_labels)\n",
    "test_labels_one_hot = to_categorical(test_labels)\n",
    "\n",
    "print(\"train_labels_one_hot.shape:\", train_labels_one_hot.shape)\n",
    "print(\"validation_labels_one_hot.shape:\", validation_labels_one_hot.shape)\n",
    "print(\"test_lanels_one_hot:\", test_labels_one_hot.shape)"
   ]
  },
  {
   "cell_type": "markdown",
   "metadata": {},
   "source": [
    "## MLP model"
   ]
  },
  {
   "cell_type": "code",
   "execution_count": 17,
   "metadata": {},
   "outputs": [
    {
     "name": "stdout",
     "output_type": "stream",
     "text": [
      "Train on 50000 samples, validate on 10000 samples\n",
      "Epoch 1/5\n",
      "50000/50000 [==============================] - 1s - loss: 0.2829 - acc: 0.9191 - val_loss: 0.1518 - val_acc: 0.9591\n",
      "Epoch 2/5\n",
      "50000/50000 [==============================] - 0s - loss: 0.1180 - acc: 0.9653 - val_loss: 0.1055 - val_acc: 0.9705\n",
      "Epoch 3/5\n",
      "50000/50000 [==============================] - 0s - loss: 0.0770 - acc: 0.9771 - val_loss: 0.0868 - val_acc: 0.9738\n",
      "Epoch 4/5\n",
      "50000/50000 [==============================] - 0s - loss: 0.0556 - acc: 0.9835 - val_loss: 0.0825 - val_acc: 0.9749\n",
      "Epoch 5/5\n",
      "50000/50000 [==============================] - 0s - loss: 0.0411 - acc: 0.9881 - val_loss: 0.0786 - val_acc: 0.9771\n",
      "['acc', 'loss', 'val_acc', 'val_loss']\n"
     ]
    },
    {
     "data": {
      "image/png": "[encoded data removed]",
      "text/plain": [
       "<matplotlib.figure.Figure at 0x7fe48f944d10>"
      ]
     },
     "metadata": {},
     "output_type": "display_data"
    }
   ],
   "source": [
    "from keras.models import Model\n",
    "from keras.layers import Input, Dense\n",
    "\n",
    "inputs = Input(shape=(28 * 28,))\n",
    "hidden1 = Dense(512, activation='relu')(inputs)\n",
    "outputs = Dense(10, activation='softmax')(hidden1)\n",
    "\n",
    "model = Model(inputs=inputs, outputs=outputs)\n",
    "model.compile(optimizer='rmsprop',\n",
    "              loss='categorical_crossentropy',\n",
    "              metrics=['accuracy'])\n",
    "\n",
    "history_mlp = model.fit(train_images_mlp,\n",
    "                        train_labels_one_hot,\n",
    "                        epochs=5,\n",
    "                        batch_size=128,\n",
    "                        validation_data=(validation_images_mlp, validation_labels_one_hot))\n",
    "\n",
    "history_dict = history_mlp.history\n",
    "print(history_dict.keys())\n",
    "\n",
    "%matplotlib inline\n",
    "import matplotlib.pyplot as plt\n",
    "\n",
    "loss_mlp = history_dict['loss']\n",
    "val_loss_mlp = history_dict['val_loss']\n",
    "epochs = range(1, len(loss_mlp) + 1)\n",
    "\n",
    "plt.plot(epochs, loss_mlp, 'bo')\n",
    "plt.plot(epochs, val_loss_mlp, 'b+')\n",
    "plt.xlabel('Epochs')\n",
    "plt.ylabel('Loss')\n",
    "plt.show()"
   ]
  },
  {
   "cell_type": "code",
   "execution_count": 18,
   "metadata": {},
   "outputs": [
    {
     "name": "stdout",
     "output_type": "stream",
     "text": [
      " 8544/10000 [========================>.....] - ETA: 0s('test_loss_mlp:', 0.070015156087907968)\n",
      "('test_acc_mlp:', 0.97860000000000003)\n"
     ]
    }
   ],
   "source": [
    "test_loss_mlp, test_acc_mlp = model.evaluate(test_images_mlp, test_labels_one_hot)\n",
    "print(\"test_loss_mlp:\", test_loss_mlp)\n",
    "print(\"test_acc_mlp:\", test_acc_mlp)"
   ]
  },
  {
   "cell_type": "markdown",
   "metadata": {},
   "source": [
    "### Reshape for Convolution input with one channel"
   ]
  },
  {
   "cell_type": "code",
   "execution_count": 19,
   "metadata": {},
   "outputs": [
    {
     "name": "stdout",
     "output_type": "stream",
     "text": [
      "(50000, 28, 28, 1)\n",
      "(10000, 28, 28, 1)\n",
      "(10000, 28, 28, 1)\n"
     ]
    }
   ],
   "source": [
    "train_images_chan = train_images.reshape((50000, 28, 28, 1))\n",
    "validation_images_chan = validation_images.reshape((10000, 28, 28, 1))\n",
    "test_images_chan = test_images.reshape((10000, 28, 28, 1))\n",
    "\n",
    "print(train_images_chan.shape)\n",
    "print(validation_images_chan.shape)\n",
    "print(test_images_chan.shape)"
   ]
  },
  {
   "cell_type": "markdown",
   "metadata": {},
   "source": [
    "## ConvNet model"
   ]
  },
  {
   "cell_type": "code",
   "execution_count": 20,
   "metadata": {},
   "outputs": [
    {
     "name": "stdout",
     "output_type": "stream",
     "text": [
      "Train on 50000 samples, validate on 10000 samples\n",
      "Epoch 1/5\n",
      "50000/50000 [==============================] - 3s - loss: 0.2153 - acc: 0.9322 - val_loss: 0.0579 - val_acc: 0.9831\n",
      "Epoch 2/5\n",
      "50000/50000 [==============================] - 3s - loss: 0.0513 - acc: 0.9836 - val_loss: 0.0567 - val_acc: 0.9815\n",
      "Epoch 3/5\n",
      "50000/50000 [==============================] - 3s - loss: 0.0339 - acc: 0.9889 - val_loss: 0.0595 - val_acc: 0.9837\n",
      "Epoch 4/5\n",
      "50000/50000 [==============================] - 3s - loss: 0.0251 - acc: 0.9923 - val_loss: 0.0323 - val_acc: 0.9912\n",
      "Epoch 5/5\n",
      "50000/50000 [==============================] - 3s - loss: 0.0200 - acc: 0.9938 - val_loss: 0.0371 - val_acc: 0.9908\n"
     ]
    },
    {
     "data": {
      "image/png": "[encoded data removed]",
      "text/plain": [
       "<matplotlib.figure.Figure at 0x7fe481ebd0d0>"
      ]
     },
     "metadata": {},
     "output_type": "display_data"
    }
   ],
   "source": [
    "from keras.layers import Conv2D, MaxPooling2D, Flatten, Dense\n",
    "from keras.models import Model\n",
    "\n",
    "inputs = Input(shape=(28, 28, 1))\n",
    "conv1 = Conv2D(32, (3, 3), activation='relu')(inputs)\n",
    "pool1 = MaxPooling2D((2, 2))(conv1)\n",
    "conv2 = Conv2D(64, (3, 3), activation='relu')(pool1)\n",
    "pool2 = MaxPooling2D((2, 2))(conv2)\n",
    "conv3 = Conv2D(64, (3, 3), activation='relu')(pool2)\n",
    "flatten = Flatten()(conv3) # flattens to 576 units\n",
    "dense1 = Dense(576, activation='relu')(flatten)\n",
    "outputs = Dense(10, activation='softmax')(dense1)\n",
    "\n",
    "model = Model(inputs=inputs, outputs=outputs)\n",
    "model.compile(optimizer='rmsprop',\n",
    "              loss='categorical_crossentropy',\n",
    "              metrics=['accuracy'])\n",
    "\n",
    "history_conv = model.fit(train_images_chan,\n",
    "                         train_labels_one_hot,\n",
    "                         epochs=5,\n",
    "                         batch_size=128,\n",
    "                         validation_data=(validation_images_chan, validation_labels_one_hot))\n",
    "\n",
    "history_dict = history_conv.history\n",
    "\n",
    "loss_conv = history_dict['loss']\n",
    "val_loss_conv = history_dict['val_loss']\n",
    "epochs = range(1, len(loss_conv) + 1)\n",
    "plt.plot(epochs, loss_conv, 'bo')\n",
    "plt.plot(epochs, val_loss_conv, 'b+')\n",
    "plt.xlabel('Epochs')\n",
    "plt.ylabel('Loss')\n",
    "plt.show()"
   ]
  },
  {
   "cell_type": "code",
   "execution_count": 21,
   "metadata": {},
   "outputs": [
    {
     "name": "stdout",
     "output_type": "stream",
     "text": [
      " 9632/10000 [===========================>..] - ETA: 0s('test_loss_conv:', 0.030114142623929366)\n",
      "('test_acc_conv:', 0.99170000000000003)\n"
     ]
    }
   ],
   "source": [
    "test_loss_conv, test_acc_conv = model.evaluate(test_images_chan, test_labels_one_hot)\n",
    "print(\"test_loss_conv:\", test_loss_conv)\n",
    "print(\"test_acc_conv:\", test_acc_conv)"
   ]
  },
  {
   "cell_type": "code",
   "execution_count": 22,
   "metadata": {},
   "outputs": [
    {
     "name": "stdout",
     "output_type": "stream",
     "text": [
      "('test_acc_mlp vs test_acc_conv:', 0.97860000000000003, 'vs', 0.99170000000000003)\n"
     ]
    }
   ],
   "source": [
    "\n",
    "print(\"test_acc_mlp vs test_acc_conv:\", test_acc_mlp, \"vs\", test_acc_conv)"
   ]
  },
  {
   "cell_type": "code",
   "execution_count": null,
   "metadata": {
    "collapsed": true
   },
   "outputs": [],
   "source": []
  }
 ],
 "metadata": {
  "kernelspec": {
   "display_name": "Python 2",
   "language": "python",
   "name": "python2"
  },
  "language_info": {
   "codemirror_mode": {
    "name": "ipython",
    "version": 2
   },
   "file_extension": ".py",
   "mimetype": "text/x-python",
   "name": "python",
   "nbconvert_exporter": "python",
   "pygments_lexer": "ipython2",
   "version": "2.7.12"
  }
 },
 "nbformat": 4,
 "nbformat_minor": 2
}
